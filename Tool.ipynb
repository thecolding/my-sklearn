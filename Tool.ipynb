{
 "cells": [
  {
   "cell_type": "markdown",
   "id": "6f962aa03e0ddc22",
   "metadata": {},
   "source": [
    "# **交叉验证类**：CrossValidator"
   ]
  },
  {
   "cell_type": "markdown",
   "id": "91c1b74d-b70e-4d1c-b266-85a6f4ed8788",
   "metadata": {
    "ExecuteTime": {
     "end_time": "2024-11-09T08:34:17.627099Z",
     "start_time": "2024-11-09T08:34:17.625067Z"
    }
   },
   "source": [
    "## **简介**\n",
    "#### 交叉验证是机器学习模型训练和评估的重要步骤，旨在通过将数据集分成多个子集来评估模型的泛化能力。CrossValidator 类实现了一个简单的 k 折交叉验证工具，用于对模型的性能进行更可靠的评估。它有助于减少模型对特定数据划分的依赖，并提高模型性能评估的稳定性。"
   ]
  },
  {
   "cell_type": "markdown",
   "id": "cc30e60c-6cd1-4014-a431-367cbbe6e45e",
   "metadata": {
    "ExecuteTime": {
     "end_time": "2024-11-09T08:50:24.527539Z",
     "start_time": "2024-11-09T08:50:24.526034Z"
    }
   },
   "source": [
    "## **代码概述**"
   ]
  },
  {
   "cell_type": "markdown",
   "id": "ebf2c395-2b36-49b9-9890-ce9f7457874a",
   "metadata": {},
   "source": [
    "### **导入必要的库**\n",
    "#### 首先，导入交叉验证所需的库："
   ]
  },
  {
   "cell_type": "code",
   "execution_count": 1,
   "id": "4e6427db-0c3e-46fb-ad4c-064e53fed88f",
   "metadata": {
    "ExecuteTime": {
     "end_time": "2024-12-07T08:45:50.890009Z",
     "start_time": "2024-12-07T08:45:50.814182Z"
    }
   },
   "outputs": [],
   "source": [
    "import numpy as np"
   ]
  },
  {
   "cell_type": "markdown",
   "id": "353cd25c-05b0-4a19-90f4-d20140d41853",
   "metadata": {},
   "source": [
    "### **定义 CrossValidator 类**"
   ]
  },
  {
   "cell_type": "code",
   "execution_count": null,
   "id": "bf84b193-d1b1-4baa-b636-2d5f0367a236",
   "metadata": {},
   "outputs": [],
   "source": [
    "class CrossValidator:\n",
    "    def __init__(self, n_splits=5):\n",
    "        self.n_splits = n_splits"
   ]
  },
  {
   "cell_type": "markdown",
   "id": "6e0cce35-71ea-4b24-9b86-70e17753d068",
   "metadata": {},
   "source": [
    "#### __init__ 方法用于初始化 n_splits，表示将数据集分成的折数，默认为 5。"
   ]
  },
  {
   "cell_type": "markdown",
   "id": "247b6c98-c949-43eb-bfc6-620c4e99c112",
   "metadata": {},
   "source": [
    "### **交叉验证方法：cross_validate**"
   ]
  },
  {
   "cell_type": "markdown",
   "id": "fa72dfa5-37d9-4ae0-a622-e44d04648087",
   "metadata": {},
   "source": [
    "#### **方法介绍**\n",
    "#### cross_validate 方法用于执行 k 折交叉验证。通过将数据集分割成 n_splits 个折，每次使用一个折作为验证集，其他折作为训练集，计算模型在每个折上的性能分数。最终返回所有折的平均分数，提供模型的整体表现评估。\n",
    "#### 交叉验证可以帮助提高模型的泛化能力，减少模型对特定训练-测试分割的依赖，从而得到更稳定和可靠的评估结果。"
   ]
  },
  {
   "cell_type": "markdown",
   "id": "879632ae-a44e-4879-aec2-f1f12539c96a",
   "metadata": {},
   "source": [
    "#### **方法实现**"
   ]
  },
  {
   "cell_type": "code",
   "execution_count": null,
   "id": "8c82c962-003a-4723-9bdc-95b1510997d9",
   "metadata": {},
   "outputs": [],
   "source": [
    "    def cross_validate(self, model, X, y):\n",
    "        fold_size = len(X) // self.n_splits\n",
    "        scores = []\n",
    "        for i in range(self.n_splits):\n",
    "            # 创建训练集和测试集\n",
    "            val_indices = range(i * fold_size, (i + 1) * fold_size)\n",
    "            X_val = X[val_indices]\n",
    "            y_val = y[val_indices]\n",
    "            X_train = np.delete(X, val_indices, axis=0)\n",
    "            y_train = np.delete(y, val_indices, axis=0)\n",
    "            if X_train.ndim == 1:\n",
    "                X_train = X_train.reshape(-1, 1)\n",
    "            if X_val.ndim == 1:\n",
    "                X_val = X_val.reshape(-1, 1)\n",
    "            # 训练和评估模型\n",
    "            model.fit(X_train, y_train)\n",
    "            score = model.score(X_val, y_val)  \n",
    "            scores.append(score)\n",
    "        return np.mean(scores)"
   ]
  },
  {
   "cell_type": "markdown",
   "id": "bd20ce09-dd7f-4cf0-87c7-7bffaa387390",
   "metadata": {},
   "source": [
    "#### **输入**\n",
    "* **model**：支持 fit 和 predict 方法的机器学习模型对象。\n",
    "* **X**：特征矩阵，类型为 NumPy 数组。\n",
    "* **y**：目标向量，类型为 NumPy 数组。\n",
    "#### **输出**\n",
    "* **返回值**：模型在所有折上的平均分数。"
   ]
  },
  {
   "cell_type": "markdown",
   "id": "0d03d5e0-049e-407c-a1c5-4c1da566ecab",
   "metadata": {},
   "source": [
    "## **使用示例**\n",
    "### **示例一：使用加利福尼亚房屋（California Housing）数据集评估线性回归模型**\n",
    "**说明：**\n",
    "- 数据集：加利福尼亚房屋数据集是一个回归任务，目标是预测加利福尼亚地区房屋的中位数价格。\n",
    "- 模型：线性回归模型（LinearRegression）。\n",
    "- 评估指标：R² 分数。"
   ]
  },
  {
   "cell_type": "code",
   "execution_count": null,
   "id": "3140ad44-c719-47b2-b56e-eed3c9ef7697",
   "metadata": {},
   "outputs": [],
   "source": [
    "import numpy as np\n",
    "from sklearn.datasets import fetch_california_housing\n",
    "from sklearn.linear_model import LinearRegression\n",
    "from Optimizer.CrossValidetor import CrossValidator\n",
    "# 加载加利福尼亚房屋数据集\n",
    "housing = fetch_california_housing()\n",
    "X = housing.data\n",
    "y = housing.target\n",
    "# 创建线性回归模型\n",
    "model = LinearRegression()\n",
    "# 创建 CrossValidator 实例\n",
    "cv = CrossValidator(n_splits=5)\n",
    "# 执行交叉验证\n",
    "average_score = cv.cross_validate(model, X, y)\n",
    "print(f\"线性回归模型的平均 R² 分数: {average_score:.4f}\")"
   ]
  },
  {
   "cell_type": "markdown",
   "id": "582829df-ddfa-4032-a25f-747d70fab34a",
   "metadata": {},
   "source": [
    "### **示例二：使用加利福尼亚房屋（California Housing）数据集评估线性回归模型**\n",
    "**说明：**\n",
    "- 数据集：手写数字数据集是一个多类别分类任务，目标是识别0-9的手写数字。\n",
    "- 模型：支持向量机分类器（SVC）。\n",
    "- 评估指标：准确率。"
   ]
  },
  {
   "cell_type": "code",
   "execution_count": null,
   "id": "3dba812f-3cee-417a-8e6e-619f8143858c",
   "metadata": {},
   "outputs": [],
   "source": [
    "import numpy as np\n",
    "from sklearn.datasets import load_digits\n",
    "from sklearn.svm import SVC\n",
    "from sklearn.preprocessing import StandardScaler\n",
    "from sklearn.pipeline import make_pipeline\n",
    "from Optimizer.CrossValidetor import CrossValidator\n",
    "# 加载手写数字数据集\n",
    "digits = load_digits()\n",
    "X = digits.data\n",
    "y = digits.target\n",
    "# 创建支持向量机分类器，包含标准化步骤\n",
    "model = make_pipeline(StandardScaler(), SVC(kernel='linear', C=1.0))\n",
    "# 创建 CrossValidator 实例\n",
    "cv = CrossValidator(n_splits=5)\n",
    "# 执行交叉验证\n",
    "average_accuracy = cv.cross_validate(model, X, y)\n",
    "print(f\"SVM 分类器的平均准确率: {average_accuracy:.4f}\")"
   ]
  },
  {
   "cell_type": "markdown",
   "id": "8963b388-60db-4056-94c7-9f5bebbdc09a",
   "metadata": {},
   "source": [
    "### **示例三：使用鸢尾花（Iris）数据集评估决策树分类器**\n",
    "**说明：**\n",
    "- 数据集：鸢尾花数据集是一个多类别分类任务，目标是识别三种鸢尾花的种类。\n",
    "- 模型：决策树分类器（DecisionTreeClassifier）。\n",
    "- 评估指标：准确率。"
   ]
  },
  {
   "cell_type": "code",
   "execution_count": null,
   "id": "a1c7fc6f-fdb9-4d8e-893e-cd008b14f5c1",
   "metadata": {},
   "outputs": [],
   "source": [
    "import numpy as np\n",
    "from sklearn.datasets import load_iris\n",
    "from sklearn.tree import DecisionTreeClassifier\n",
    "from Optimizer.CrossValidetor import CrossValidator\n",
    "# 加载鸢尾花数据集\n",
    "iris = load_iris()\n",
    "X = iris.data\n",
    "y = iris.target\n",
    "# 创建决策树分类器\n",
    "model = DecisionTreeClassifier(random_state=42)\n",
    "# 创建 CrossValidator 实例\n",
    "cv = CrossValidator(n_splits=5)\n",
    "# 执行交叉验证\n",
    "average_accuracy = cv.cross_validate(model, X, y)\n",
    "print(f\"决策树分类器的平均准确率: {average_accuracy:.4f}\")"
   ]
  },
  {
   "cell_type": "markdown",
   "id": "e3d11625-f8db-46c5-893c-6b1b9b5eef1c",
   "metadata": {},
   "source": [
    "### **为什么使用交叉验证？**\n",
    "#### 交叉验证对模型评估非常重要，尤其是在数据有限的情况下。它可以减少模型对数据分割的偏差，提高评估结果的稳定性和可靠性，并为模型选择和参数调整提供依据。"
   ]
  },
  {
   "cell_type": "markdown",
   "id": "c447fcf5-22ab-4565-b8bc-e2c7041bd61d",
   "metadata": {},
   "source": [
    "***"
   ]
  },
  {
   "cell_type": "markdown",
   "id": "44382bd1-276c-49f1-828d-e27a0dbd4536",
   "metadata": {},
   "source": [
    "# **早停机制类**：EarlyStopping"
   ]
  },
  {
   "cell_type": "markdown",
   "id": "738009fc-8d0f-49e5-ad01-8ed9c0abb5c8",
   "metadata": {},
   "source": [
    "## **简介**\n",
    "#### 早停机制（Early Stopping）是一种在模型训练过程中用于避免过拟合的策略。通过监控验证集上的性能指标，当模型的性能在若干轮次内不再提升时，训练将被提前终止。这种方法不仅可以提高模型的泛化能力，还能节省计算资源和时间。EarlyStopping 类提供了一种简单的实现，可以轻松集成到模型训练流程中。"
   ]
  },
  {
   "cell_type": "markdown",
   "id": "6aaa108b-eb07-4fc2-a408-367203daf6fe",
   "metadata": {},
   "source": [
    "## **代码概述**\n",
    "### **导入必要的库**\n",
    "#### 首先，导入实现早停机制所需的库："
   ]
  },
  {
   "cell_type": "code",
   "execution_count": null,
   "id": "4cc21a70-c4b7-4084-8b2e-426cb1e6358b",
   "metadata": {},
   "outputs": [],
   "source": [
    "import numpy as np\n",
    "import pickle\n",
    "import matplotlib.pyplot as plt"
   ]
  },
  {
   "cell_type": "markdown",
   "id": "1ee5d121-113b-4c00-8651-820552b5857c",
   "metadata": {},
   "source": [
    "### **定义 EarlyStopping 类**"
   ]
  },
  {
   "cell_type": "code",
   "execution_count": null,
   "id": "d6b7db9e-4dd7-404f-bde3-42931fda43ec",
   "metadata": {},
   "outputs": [],
   "source": [
    "class EarlyStopping:\n",
    "    def __init__(self, patience=5):\n",
    "        self.patience = patience  # 设置耐心值\n",
    "        self.best_score = None  # 初始化最佳分数为 None\n",
    "        self.counter = 0  # 初始化未改善计数器"
   ]
  },
  {
   "cell_type": "markdown",
   "id": "c92b9bfd-d95a-4b35-8f2e-de2b1c1271f0",
   "metadata": {},
   "source": [
    "#### __init__ 方法初始化类的属性 patience、best_score 和 counter。patience 指定在模型性能未改善时等待的轮次，best_score 存储验证集上的最佳分数，counter 记录未改善的次数。"
   ]
  },
  {
   "cell_type": "markdown",
   "id": "85c72820-1e60-47d3-bdce-d080becccfa3",
   "metadata": {},
   "source": [
    "### **方法：check**"
   ]
  },
  {
   "cell_type": "markdown",
   "id": "fd497fc6-6a2b-4d1e-95f4-b7ac478bccfa",
   "metadata": {},
   "source": [
    "#### **方法介绍**\n",
    "#### check(score) 方法用于检查当前分数 score 是否优于之前的最佳分数 best_score。如果当前分数更高，则更新 best_score 并将 counter 重置为 0，表示模型表现有改善。如果当前分数未改善，则增加 counter，当 counter 达到 patience 时，返回 True，表示需要提前停止训练。"
   ]
  },
  {
   "cell_type": "markdown",
   "id": "3343cb31-5b17-4718-b19c-40adadaa4b1d",
   "metadata": {},
   "source": [
    "#### **方法实现**"
   ]
  },
  {
   "cell_type": "code",
   "execution_count": null,
   "id": "3a2f6c33-d20f-4bdc-a4cc-7ef422ab3d72",
   "metadata": {},
   "outputs": [],
   "source": [
    "def check(self, score):\n",
    "    if self.best_score is None or score > self.best_score:\n",
    "        self.best_score = score  # 更新最佳分数\n",
    "        self.counter = 0  # 重置计数器\n",
    "        return False  # 不需要停止训练\n",
    "    else:\n",
    "        self.counter += 1  # 增加未改善计数器\n",
    "        return self.counter >= self.patience  # 达到耐心次数，停止训练"
   ]
  },
  {
   "cell_type": "markdown",
   "id": "dce9bbb1-4ee2-42c8-845c-33a8c4d5ef39",
   "metadata": {},
   "source": [
    "#### **输入与输出**\n",
    "* **输入**：score（浮点数，表示当前轮次的模型性能分数）\n",
    "* **输出**：布尔值，True 表示应停止训练，False 表示继续训练"
   ]
  },
  {
   "cell_type": "markdown",
   "id": "5a720b25-5ea7-4295-b871-8535e8ca99e5",
   "metadata": {},
   "source": [
    "## **示例**\n",
    "### **示例一：使用乳腺癌（Breast Cancer）数据集评估逻辑回归模型的早停机制**\n",
    "**说明：**\n",
    "- 数据集：乳腺癌数据集是一个二分类任务，目标是预测肿瘤是否为恶性。\n",
    "- 模型：逻辑回归模型（LogisticRegression）。\n",
    "- 早停机制：监控验证集的准确率，设定耐心为10次未改善。"
   ]
  },
  {
   "cell_type": "code",
   "execution_count": null,
   "id": "0edff876-e690-4608-a78c-6e743482a2ee",
   "metadata": {},
   "outputs": [],
   "source": [
    "import numpy as np\n",
    "import matplotlib.pyplot as plt\n",
    "from sklearn.datasets import load_breast_cancer\n",
    "from sklearn.linear_model import LogisticRegression\n",
    "from sklearn.model_selection import train_test_split\n",
    "from sklearn.metrics import accuracy_score\n",
    "from Optimizer.EarlyStopping import EarlyStopping\n",
    "# 加载乳腺癌数据集\n",
    "cancer = load_breast_cancer()\n",
    "X = cancer.data\n",
    "y = cancer.target\n",
    "# 划分训练集和验证集\n",
    "X_train, X_val, y_train, y_val = train_test_split(\n",
    "    X, y, test_size=0.2, random_state=42, stratify=y)\n",
    "# 创建逻辑回归模型\n",
    "model = LogisticRegression(max_iter=1, warm_start=True, solver='liblinear', random_state=42)\n",
    "# 创建 EarlyStopping 实例\n",
    "early_stopping = EarlyStopping(patience=10, mode='max', verbose=True, delta=0.001, save_path='best_model_cancer.pkl')\n",
    "# 训练模型并应用早停机制\n",
    "train_scores = []\n",
    "val_scores = []\n",
    "for epoch in range(1, 501):\n",
    "    model.fit(X_train, y_train)\n",
    "    # 计算训练和验证集的准确率\n",
    "    train_pred = model.predict(X_train)\n",
    "    val_pred = model.predict(X_val)\n",
    "    train_acc = accuracy_score(y_train, train_pred)\n",
    "    val_acc = accuracy_score(y_val, val_pred)\n",
    "    train_scores.append(train_acc)\n",
    "    val_scores.append(val_acc)\n",
    "    print(f\"Epoch {epoch}: Train Acc={train_acc:.4f}, Val Acc={val_acc:.4f}\")\n",
    "    # 检查早停条件\n",
    "    if early_stopping.check(val_acc, model):\n",
    "        print(f\"Stopping training at epoch {epoch}\")\n",
    "        break\n",
    "# 可视化训练和验证准确率\n",
    "plt.figure(figsize=(10, 6))\n",
    "plt.plot(range(1, len(train_scores) + 1), train_scores, label='Training Accuracy')\n",
    "plt.plot(range(1, len(val_scores) + 1), val_scores, label='Validation Accuracy')\n",
    "plt.axvline(x=epoch, color='r', linestyle='--', label='Early Stopping')\n",
    "plt.xlabel('Epoch')\n",
    "plt.ylabel('Accuracy')\n",
    "plt.title('Training and Validation Accuracy with Early Stopping')\n",
    "plt.legend()\n",
    "plt.show()"
   ]
  },
  {
   "cell_type": "markdown",
   "id": "b8783fc5-106d-4461-abc0-f6fb11597ed2",
   "metadata": {},
   "source": [
    "### **示例二：使用糖尿病（Diabetes）数据集评估岭回归模型的早停机制**"
   ]
  },
  {
   "cell_type": "code",
   "execution_count": null,
   "id": "62327b59-e9a4-40c3-820e-eb228ff1dffd",
   "metadata": {},
   "outputs": [],
   "source": [
    "import numpy as np\n",
    "import matplotlib.pyplot as plt\n",
    "from sklearn.datasets import load_diabetes\n",
    "from sklearn.linear_model import Ridge\n",
    "from sklearn.model_selection import train_test_split\n",
    "from sklearn.metrics import r2_score\n",
    "from Optimizer.EarlyStopping import EarlyStopping\n",
    "# 加载糖尿病数据集\n",
    "diabetes = load_diabetes()\n",
    "X = diabetes.data\n",
    "y = diabetes.target\n",
    "# 划分训练集和验证集\n",
    "X_train, X_val, y_train, y_val = train_test_split(\n",
    "    X, y, test_size=0.2, random_state=42)\n",
    "# 创建岭回归模型\n",
    "model = Ridge(alpha=1.0, max_iter=1, warm_start=True, random_state=42)\n",
    "# 创建 EarlyStopping 实例\n",
    "early_stopping = EarlyStopping(patience=10, mode='max', verbose=True, delta=0.001, save_path='best_model_diabetes.pkl')\n",
    "# 训练模型并应用早停机制\n",
    "train_scores = []\n",
    "val_scores = []\n",
    "for epoch in range(1, 501):\n",
    "    model.fit(X_train, y_train)\n",
    "    # 计算训练和验证集的R²分数\n",
    "    train_pred = model.predict(X_train)\n",
    "    val_pred = model.predict(X_val)\n",
    "    train_r2 = r2_score(y_train, train_pred)\n",
    "    val_r2 = r2_score(y_val, val_pred)\n",
    "    train_scores.append(train_r2)\n",
    "    val_scores.append(val_r2)\n",
    "    print(f\"Epoch {epoch}: Train R²={train_r2:.4f}, Val R²={val_r2:.4f}\")\n",
    "    # 检查早停条件\n",
    "    if early_stopping.check(val_r2, model):\n",
    "        print(f\"Stopping training at epoch {epoch}\")\n",
    "        break\n",
    "# 可视化训练和验证R²分数\n",
    "plt.figure(figsize=(10, 6))\n",
    "plt.plot(range(1, len(train_scores)+1), train_scores, label='Training R²')\n",
    "plt.plot(range(1, len(val_scores)+1), val_scores, label='Validation R²')\n",
    "plt.axvline(x=epoch, color='r', linestyle='--', label='Early Stopping')\n",
    "plt.xlabel('Epoch')\n",
    "plt.ylabel('R² Score')\n",
    "plt.title('Training and Validation R² Score with Early Stopping')\n",
    "plt.legend()\n",
    "plt.show()"
   ]
  },
  {
   "cell_type": "markdown",
   "id": "4d2be64c-12ec-4cce-b89b-469192d40a6b",
   "metadata": {},
   "source": [
    "#### **为什么使用早停机制？**\n",
    "#### 早停机制可以防止模型在验证集上的性能因过拟合而恶化，特别是在深度学习和大规模数据集的训练中非常有用。通过监控模型性能，早停机制能够缩短训练时间，同时提升模型的泛化能力。"
   ]
  },
  {
   "cell_type": "markdown",
   "id": "8a1814da-2bba-457c-9ff8-6263af7054cc",
   "metadata": {},
   "source": [
    "---"
   ]
  },
  {
   "cell_type": "markdown",
   "id": "67993a5f-dbc9-4be7-8ac8-58d78e6f10d6",
   "metadata": {},
   "source": [
    "# **梯度下降优化类**：GradientDescentOptimizer \n",
    "## **概述**\n",
    "GradientDescentOptimizer 类是一个用于实现多种梯度下降优化算法的工具。该类支持以下优化方法：\n",
    "1. 随机梯度下降（SGD）\n",
    "2. 动量法（Momentum）\n",
    "3. RMSprop\n",
    "4. Adam\n",
    "这些优化算法在训练机器学习模型，特别是深度学习模型时，广泛应用于加速收敛、提高模型性能和稳定性。\n",
    "## **功能描述**\n",
    "- **多种优化算法支持**：提供了常用的优化算法，用户可以根据具体需求选择合适的优化方法。\n",
    "- **参数更新机制**：根据不同的优化算法，计算并返回参数的更新值。\n",
    "- **超参数可调节**：用户可以通过初始化参数自定义学习率、动量系数、Adam优化器的β1和β2等超参数。\n",
    "## **类结构**\n",
    "### 类：GradientDescentOptimizer\n",
    "**属性**\n",
    "- learning_rate (float): 学习率，控制每次参数更新的步长。默认值为0.01。\n",
    "- momentum (float): 动量系数，用于动量法。默认值为0.9。\n",
    "- beta1 (float): Adam优化器的β1参数，用于计算一阶矩估计。默认值为0.9。\n",
    "- beta2 (float): Adam优化器的β2参数，用于计算二阶矩估计。默认值为0.999。\n",
    "- epsilon (float): Adam优化器中的小常数，防止除零错误。默认值为1e-8。\n",
    "- m (np.ndarray or None): Adam优化器的一阶矩估计。初始化为None。\n",
    "- v (np.ndarray or None): Adam优化器的二阶矩估计。初始化为None。\n",
    "- t (int): Adam优化器的时间步计数器。初始化为0。\n",
    "**方法**\n",
    "- __init__(self, learning_rate=0.01, momentum=0.9, beta1=0.9, beta2=0.999, epsilon=1e-8)\n",
    "    - 描述：初始化优化器，设置各项超参数。\n",
    "    - 参数：\n",
    "        - learning_rate (float): 学习率。\n",
    "        - momentum (float): 动量系数。\n",
    "        - beta1 (float): Adam优化器的β1参数。\n",
    "        - beta2 (float): Adam优化器的β2参数。\n",
    "        - epsilon (float): Adam优化器中的小常数。\n",
    "- sgd(self, gradients)\n",
    "    - 描述：执行随机梯度下降（SGD）优化。\n",
    "    - 参数：\n",
    "        - gradients (np.ndarray): 当前参数的梯度。\n",
    "        - 返回值：参数更新值（np.ndarray）。\n",
    "- momentum(self, gradients, velocity)\n",
    "    - 描述：执行动量法优化。\n",
    "    - 参数：\n",
    "        - gradients (np.ndarray): 当前参数的梯度。\n",
    "        - velocity (np.ndarray): 上一次的速度（动量）。\n",
    "    - 返回值：元组 (params_update, velocity)，分别为参数更新值和更新后的速度。\n",
    "- rmsprop(self, gradients, cache)\n",
    "    - 描述：执行 RMSprop 优化。\n",
    "    - 参数：\n",
    "        - gradients (np.ndarray): 当前参数的梯度。\n",
    "        - cache (np.ndarray): 上一次的缓存值。\n",
    "    - 返回值：元组 (params_update, cache)，分别为参数更新值和更新后的缓存值。\n",
    "- adam(self, gradients)\n",
    "    - 描述：执行 Adam 优化。\n",
    "    - 参数：\n",
    "        - gradients (np.ndarray): 当前参数的梯度。\n",
    "    - 返回值：参数更新值（np.ndarray）。"
   ]
  },
  {
   "cell_type": "markdown",
   "id": "bee18af4-ed3a-407a-b398-2638799bd106",
   "metadata": {},
   "source": [
    "## **示例代码**\n",
    "以下提供了三个使用不同公开数据集的测试用例，展示如何使用 GradientDescentOptimizer 类实现不同的优化算法。"
   ]
  },
  {
   "cell_type": "markdown",
   "id": "78d01235-0615-4329-a5d7-2c1fa80cb34a",
   "metadata": {},
   "source": [
    "### **测试用例 1: 使用加利福尼亚房价数据集评估线性回归模型的优化算法**\n",
    "**说明：**\n",
    "- 数据集：鸢尾花数据集是一个多类别分类任务，目标是识别三种鸢尾花的种类。\n",
    "- 模型：逻辑回归模型（LogisticRegression）。\n",
    "- 优化算法：随机梯度下降（SGD）、动量法（Momentum）、RMSprop、Adam。"
   ]
  },
  {
   "cell_type": "code",
   "execution_count": 11,
   "id": "d6094348-74f6-46f6-8fc6-30b91dc2c997",
   "metadata": {},
   "outputs": [
    {
     "name": "stdout",
     "output_type": "stream",
     "text": [
      "Epoch 0, Loss: 5.629742323103131\n",
      "Epoch 100, Loss: 4.91170017881007\n",
      "Epoch 200, Loss: 4.87128052703848\n",
      "Epoch 300, Loss: 4.850844650798878\n",
      "Epoch 400, Loss: 4.836049158351512\n",
      "Epoch 500, Loss: 4.8251299858394745\n",
      "Epoch 600, Loss: 4.817055057470423\n",
      "Epoch 700, Loss: 4.811077456053158\n",
      "Epoch 800, Loss: 4.806647908341638\n",
      "Epoch 900, Loss: 4.8033617926540595\n",
      "Test Loss: 4.844521023904688\n"
     ]
    },
    {
     "data": {
      "image/png": "[encoded data removed]",
      "text/plain": [
       "<Figure size 640x480 with 1 Axes>"
      ]
     },
     "metadata": {},
     "output_type": "display_data"
    }
   ],
   "source": [
    "import numpy as np\n",
    "import pickle\n",
    "import matplotlib.pyplot as plt\n",
    "from sklearn.datasets import fetch_california_housing\n",
    "from sklearn.preprocessing import StandardScaler\n",
    "from sklearn.model_selection import train_test_split\n",
    "from Optimizer.GradientDescentOptimizer import GradientDescentOptimizer\n",
    "# 加载加利福尼亚房价数据集\n",
    "housing = fetch_california_housing()\n",
    "X, y = housing.data, housing.target\n",
    "# 数据标准化\n",
    "scaler = StandardScaler()\n",
    "X = scaler.fit_transform(X)\n",
    "# 划分训练集和测试集\n",
    "X_train, X_test, y_train, y_test = train_test_split(X, y, test_size=0.2, random_state=42)\n",
    "# 初始化优化器\n",
    "optimizer = GradientDescentOptimizer(learning_rate=0.01)\n",
    "# 初始化参数\n",
    "params = np.zeros(X_train.shape[1])\n",
    "# 记录损失\n",
    "losses = []\n",
    "# 训练模型\n",
    "num_epochs = 1000\n",
    "for epoch in range(num_epochs):\n",
    "    # 计算预测值\n",
    "    y_pred = np.dot(X_train, params)\n",
    "    # 计算损失和梯度\n",
    "    loss = np.mean((y_train - y_pred) ** 2)\n",
    "    gradients = -2 * np.dot(X_train.T, (y_train - y_pred)) / X_train.shape[0]\n",
    "    # 更新参数\n",
    "    params_update = optimizer.sgd_update(gradients)\n",
    "    params += params_update\n",
    "    # 记录损失\n",
    "    losses.append(loss)\n",
    "    if epoch % 100 == 0:\n",
    "        print(f\"Epoch {epoch}, Loss: {loss}\")\n",
    "# 测试模型\n",
    "y_test_pred = np.dot(X_test, params)\n",
    "test_loss = np.mean((y_test - y_test_pred) ** 2)\n",
    "print(f\"Test Loss: {test_loss}\")\n",
    "# 可视化损失\n",
    "plt.plot(losses)\n",
    "plt.xlabel('Epoch')\n",
    "plt.ylabel('Loss')\n",
    "plt.title('Training Loss over Epochs')\n",
    "plt.show()"
   ]
  },
  {
   "cell_type": "markdown",
   "id": "a51d1f87-3525-4c24-aff7-beb0da8e8af3",
   "metadata": {},
   "source": [
    "### **测试用例 2: 使用鸢尾花（Iris）数据集评估逻辑回归模型的优化算法**\n",
    "**说明:**\n",
    "- 数据集: 鸢尾花数据集是一个多类别分类任务，目标是识别三种鸢尾花的种类。\n",
    "- 模型: 逻辑回归模型（Logistic Regression）。\n",
    "- 优化算法: 随机梯度下降（SGD）、动量法（Momentum）、RMSprop、Adam。"
   ]
  },
  {
   "cell_type": "code",
   "execution_count": 12,
   "id": "28fb2dd7-87f4-48d6-beba-57fbdd5b577a",
   "metadata": {},
   "outputs": [
    {
     "name": "stdout",
     "output_type": "stream",
     "text": [
      "Epoch 0, Accuracy: 1.0\n",
      "Epoch 100, Accuracy: 1.0\n",
      "Epoch 200, Accuracy: 1.0\n",
      "Epoch 300, Accuracy: 1.0\n",
      "Epoch 400, Accuracy: 1.0\n",
      "Epoch 500, Accuracy: 1.0\n",
      "Epoch 600, Accuracy: 1.0\n",
      "Epoch 700, Accuracy: 1.0\n",
      "Epoch 800, Accuracy: 1.0\n",
      "Epoch 900, Accuracy: 1.0\n",
      "Test Accuracy: 1.0\n"
     ]
    },
    {
     "data": {
      "image/png": "[encoded data removed]",
      "text/plain": [
       "<Figure size 640x480 with 1 Axes>"
      ]
     },
     "metadata": {},
     "output_type": "display_data"
    }
   ],
   "source": [
    "import numpy as np\n",
    "import pickle\n",
    "import matplotlib.pyplot as plt\n",
    "from sklearn.datasets import load_iris\n",
    "from sklearn.preprocessing import StandardScaler\n",
    "from sklearn.model_selection import train_test_split\n",
    "from sklearn.linear_model import LogisticRegression\n",
    "from Optimizer.GradientDescentOptimizer import GradientDescentOptimizer\n",
    "# 加载鸢尾花数据集\n",
    "iris = load_iris()\n",
    "X, y = iris.data, iris.target\n",
    "# 数据标准化\n",
    "scaler = StandardScaler()\n",
    "X = scaler.fit_transform(X)\n",
    "# 划分训练集和测试集\n",
    "X_train, X_test, y_train, y_test = train_test_split(X, y, test_size=0.2, random_state=42)\n",
    "# 初始化优化器\n",
    "optimizer = GradientDescentOptimizer(learning_rate=0.01)\n",
    "# 初始化逻辑回归模型\n",
    "model = LogisticRegression(solver='saga', max_iter=500, warm_start=True)\n",
    "# 记录准确率\n",
    "accuracies = []\n",
    "# 训练模型\n",
    "num_epochs = 1000\n",
    "for epoch in range(num_epochs):\n",
    "    model.fit(X_train, y_train)\n",
    "    gradients = model.coef_\n",
    "    # 更新参数\n",
    "    params_update = optimizer.sgd_update(gradients)\n",
    "    model.coef_ += params_update\n",
    "    # 记录准确率\n",
    "    score = model.score(X_test, y_test)\n",
    "    accuracies.append(score)\n",
    "    if epoch % 100 == 0:\n",
    "        print(f\"Epoch {epoch}, Accuracy: {score}\")\n",
    "# 测试模型\n",
    "test_score = model.score(X_test, y_test)\n",
    "print(f\"Test Accuracy: {test_score}\")\n",
    "# 可视化准确率\n",
    "plt.plot(accuracies)\n",
    "plt.xlabel('Epoch')\n",
    "plt.ylabel('Accuracy')\n",
    "plt.title('Test Accuracy over Epochs')\n",
    "plt.show()"
   ]
  },
  {
   "cell_type": "markdown",
   "id": "c46d18fe-ead6-489d-af3f-cef0936bc3f9",
   "metadata": {},
   "source": [
    "### **测试用例 3: 使用葡萄酒质量数据集评估线性回归模型的优化算法**\n",
    "**说明:**\n",
    "- 数据集: 葡萄酒质量数据集是一个回归任务，目标是预测葡萄酒的质量评分。\n",
    "- 模型: 线性回归模型。\n",
    "- 优化算法: 随机梯度下降（SGD）、动量法（Momentum）、RMSprop、Adam。"
   ]
  },
  {
   "cell_type": "code",
   "execution_count": 13,
   "id": "54a9e929-12c2-484f-af86-e00ef73fec32",
   "metadata": {},
   "outputs": [
    {
     "name": "stdout",
     "output_type": "stream",
     "text": [
      "Epoch 0, Loss: 32.279124315871776\n",
      "Epoch 100, Loss: 32.08141832952502\n",
      "Epoch 200, Loss: 32.07916628479924\n",
      "Epoch 300, Loss: 32.07889924719486\n",
      "Epoch 400, Loss: 32.078807744888664\n",
      "Test Loss: 32.77659857103323\n"
     ]
    },
    {
     "data": {
      "image/png": "[encoded data removed]",
      "text/plain": [
       "<Figure size 640x480 with 1 Axes>"
      ]
     },
     "metadata": {},
     "output_type": "display_data"
    }
   ],
   "source": [
    "import numpy as np\n",
    "import pickle\n",
    "import matplotlib.pyplot as plt\n",
    "from sklearn.datasets import fetch_openml\n",
    "from sklearn.preprocessing import StandardScaler\n",
    "from sklearn.model_selection import train_test_split\n",
    "from Optimizer.GradientDescentOptimizer import GradientDescentOptimizer\n",
    "# 加载葡萄酒质量数据集\n",
    "wine = fetch_openml(name='wine-quality-red', version=1)\n",
    "X, y = wine.data, wine.target.astype(np.float64)\n",
    "# 数据标准化\n",
    "scaler = StandardScaler()\n",
    "X = scaler.fit_transform(X)\n",
    "# 划分训练集和测试集\n",
    "X_train, X_test, y_train, y_test = train_test_split(X, y, test_size=0.2, random_state=42)\n",
    "# 初始化优化器\n",
    "optimizer = GradientDescentOptimizer(learning_rate=0.01)\n",
    "# 初始化参数\n",
    "params = np.zeros(X_train.shape[1])\n",
    "# 记录损失\n",
    "losses = []\n",
    "# 训练模型\n",
    "num_epochs = 500\n",
    "for epoch in range(num_epochs):\n",
    "    # 计算预测值\n",
    "    y_pred = np.dot(X_train, params)\n",
    "    # 计算损失和梯度\n",
    "    loss = np.mean((y_train - y_pred) ** 2)\n",
    "    gradients = -2 * np.dot(X_train.T, (y_train - y_pred)) / X_train.shape[0]\n",
    "    # 更新参数\n",
    "    params_update = optimizer.sgd_update(gradients)\n",
    "    params += params_update\n",
    "    # 记录损失\n",
    "    losses.append(loss)\n",
    "    if epoch % 100 == 0:\n",
    "        print(f\"Epoch {epoch}, Loss: {loss}\")\n",
    "# 测试模型\n",
    "y_test_pred = np.dot(X_test, params)\n",
    "test_loss = np.mean((y_test - y_test_pred) ** 2)\n",
    "print(f\"Test Loss: {test_loss}\")\n",
    "# 可视化损失\n",
    "plt.plot(losses)\n",
    "plt.xlabel('Epoch')\n",
    "plt.ylabel('Loss')\n",
    "plt.title('Training Loss over Epochs')\n",
    "plt.show()"
   ]
  },
  {
   "cell_type": "markdown",
   "id": "36548d6f-806b-4d97-bf1d-92c14861f111",
   "metadata": {},
   "source": [
    "## **结论**\n",
    "GradientDescentOptimizer 类为实现多种梯度下降优化算法提供了一个简洁而灵活的工具。通过支持SGD、动量法、RMSprop和Adam等常用优化方法，用户能够根据具体任务需求选择最合适的优化策略。结合上述测试用例，GradientDescentOptimizer 在实际应用中展现出了其广泛的适用性和高效性。未来可以通过扩展其功能和优化其接口，进一步提升其在更复杂任务中的适用性和性能。"
   ]
  },
  {
   "cell_type": "markdown",
   "id": "779aac1c-bc18-456f-9ed2-15d4eb2b70ac",
   "metadata": {},
   "source": [
    "***"
   ]
  },
  {
   "cell_type": "markdown",
   "id": "51bbfd0d-40c5-4cfe-b629-2a6cae1a2628",
   "metadata": {},
   "source": [
    "# **超参数网格搜索类**：GridSearch"
   ]
  },
  {
   "cell_type": "markdown",
   "id": "fa0c17f7-b97b-419d-b518-95a9b73e189f",
   "metadata": {},
   "source": [
    "## **简介**\n",
    "#### 超参数调整是机器学习模型优化中的重要环节，通过选择最佳的超参数组合，可以显著提升模型的性能。GridSearch 类实现了简单的网格搜索方法，用于系统地尝试所有可能的超参数组合，并通过交叉验证来评估每个组合的表现，从而找到最佳参数。"
   ]
  },
  {
   "cell_type": "markdown",
   "id": "23269ec3-e5c3-4e19-966a-03297105f8c2",
   "metadata": {},
   "source": [
    "## **代码概述**\n",
    "### **导入必要的库**"
   ]
  },
  {
   "cell_type": "code",
   "execution_count": 1,
   "id": "c19c07bc-dc8a-4776-89c5-ee76e897014f",
   "metadata": {
    "ExecuteTime": {
     "end_time": "2024-12-09T00:47:31.180046Z",
     "start_time": "2024-12-09T00:47:30.945943Z"
    }
   },
   "outputs": [],
   "source": [
    "import numpy as np"
   ]
  },
  {
   "cell_type": "markdown",
   "id": "ea47cd90-292c-439f-a3eb-fac0a460379a",
   "metadata": {},
   "source": [
    "### **方法：_generate_param_combinations**"
   ]
  },
  {
   "cell_type": "code",
   "execution_count": null,
   "id": "e88dde9a-fd55-4dd4-9c01-5604a726f763",
   "metadata": {},
   "outputs": [],
   "source": [
    "def _generate_param_combinations(self):\n",
    "    keys = list(self.param_grid.keys())  # 提取所有参数的名称\n",
    "    values = [self.param_grid[key] for key in keys]  # 提取每个参数的所有可能取值\n",
    "    combinations = np.array(np.meshgrid(*values)).T.reshape(-1, len(keys))  # 生成所有组合\n",
    "\n",
    "    for combination in combinations:  # 逐个返回组合\n",
    "        yield dict(zip(keys, combination))"
   ]
  },
  {
   "cell_type": "markdown",
   "id": "09d81cc0-f03f-4dd8-8593-fdd7d81bcdab",
   "metadata": {},
   "source": [
    "#### **方法介绍**\n",
    "#### _generate_param_combinations 方法用于生成所有可能的超参数组合，基于 param_grid 中定义的参数范围。它通过将所有参数值的网格组合展平，然后逐个返回这些组合。"
   ]
  },
  {
   "cell_type": "markdown",
   "id": "729756e5-fb76-4153-b5a3-589efc196fc3",
   "metadata": {},
   "source": [
    "#### **方法实现**"
   ]
  },
  {
   "cell_type": "code",
   "execution_count": null,
   "id": "0c33eb7b-db89-4125-9b08-61ee2ec05c07",
   "metadata": {},
   "outputs": [],
   "source": [
    "def _generate_param_combinations(self):\n",
    "    keys = list(self.param_grid.keys())  # 提取所有参数的名称\n",
    "    values = [self.param_grid[key] for key in keys]  # 提取每个参数的所有可能取值\n",
    "    combinations = np.array(np.meshgrid(*values)).T.reshape(-1, len(keys))  # 生成所有组合\n",
    "\n",
    "    for combination in combinations:  # 逐个返回组合\n",
    "        yield dict(zip(keys, combination))"
   ]
  },
  {
   "cell_type": "markdown",
   "id": "312f30ae-0aee-44a1-b788-d8ff76c323fa",
   "metadata": {},
   "source": [
    "#### **示例**"
   ]
  },
  {
   "cell_type": "markdown",
   "id": "c2ba0c1c-fc1d-4937-b072-f43dd3041e8f",
   "metadata": {},
   "source": [
    "使用鸢尾花数据集来测试 GridSearch 类。定义一个支持向量机（SVM）模型，并使用网格搜索来找到最佳参数组合。然后使用最佳参数训练模型并评估其在测试集上的准确性。"
   ]
  },
  {
   "cell_type": "code",
   "execution_count": null,
   "id": "3f52b6ed-cd10-429c-9f95-c92cf7624e14",
   "metadata": {},
   "outputs": [],
   "source": [
    "import matplotlib.pyplot as plt\n",
    "from sklearn.datasets import load_iris\n",
    "from sklearn.model_selection import train_test_split\n",
    "from sklearn.svm import SVC\n",
    "from Optimizer.GridSearch import GridSearch\n",
    "# 加载鸢尾花数据集\n",
    "iris = load_iris()\n",
    "X, y = iris.data, iris.target\n",
    "# 划分训练集和测试集\n",
    "X_train, X_test, y_train, y_test = train_test_split(X, y, test_size=0.2, random_state=42)\n",
    "# 定义参数网格\n",
    "param_grid = {\n",
    "    'C': [0.1, 1, 10],\n",
    "    'kernel': ['linear', 'rbf'],\n",
    "    'gamma': [0.001, 0.01, 0.1]\n",
    "}\n",
    "# 初始化模型和网格搜索\n",
    "model = SVC()\n",
    "grid_search = GridSearch(param_grid, cv=5)\n",
    "# 执行网格搜索\n",
    "best_params, best_score, all_scores = grid_search.search(model, X_train, y_train)\n",
    "print(f\"Best Parameters: {best_params}\")\n",
    "print(f\"Best Cross-Validation Score: {best_score}\")\n",
    "# 使用最佳参数训练模型\n",
    "model.set_params(**best_params)\n",
    "model.fit(X_train, y_train)\n",
    "# 测试模型\n",
    "test_score = model.score(X_test, y_test)\n",
    "print(f\"Test Accuracy: {test_score}\")\n",
    "# 可视化所有参数组合的交叉验证得分\n",
    "scores = [score for _, score in all_scores]\n",
    "params = [str(param) for param, _ in all_scores]\n",
    "plt.figure(figsize=(10, 6))\n",
    "plt.plot(params, scores, marker='o')\n",
    "plt.xticks(rotation=90)\n",
    "plt.xlabel('Parameter Combinations')\n",
    "plt.ylabel('Cross-Validation Score')\n",
    "plt.title('Grid Search Cross-Validation Scores')\n",
    "plt.tight_layout()\n",
    "plt.show()"
   ]
  },
  {
   "cell_type": "markdown",
   "id": "5442813a-bde1-4ed7-b03c-3865c962ccad",
   "metadata": {},
   "source": [
    "## **使用场景**\n",
    "* **模型优化**：GridSearch 适用于需要调整多个超参数的场景，通过交叉验证评估每个超参数组合的表现，选择最佳参数。\n",
    "* **小规模参数搜索**：对于参数范围较小的情况，网格搜索可以高效地找到最佳参数。然而，对于大规模参数搜索，可能需要更高级的搜索策略（如随机搜索或贝叶斯优化）。"
   ]
  },
  {
   "cell_type": "markdown",
   "id": "548466e1-4b20-4023-8e33-35c417639065",
   "metadata": {},
   "source": [
    "## **注意事项**\n",
    "* **计算开销**：如果参数组合数量较多，网格搜索的计算开销会非常大，可以考虑减少参数范围或使用更高级的搜索方法。\n",
    "* **模型的 set_params 方法**：请确保所使用的模型支持 set_params 方法来动态设置超参数。"
   ]
  },
  {
   "cell_type": "markdown",
   "id": "fee97dde-a0e8-4e8c-9d99-67936b6a3a92",
   "metadata": {},
   "source": [
    "***"
   ]
  },
  {
   "cell_type": "markdown",
   "id": "37b06add-c064-4af7-a791-2e808bf16c47",
   "metadata": {},
   "source": [
    "# **学习率调度类**：LearningRateScheduler\n",
    "## **概述**\n",
    "LearningRateScheduler 类，旨在为机器学习训练过程中的学习率（Learning Rate, LR）提供多种更新策略。通过多种学习率调度方法，用户可以在训练过程中动态调整学习率，从而更好地控制模型训练的优化过程。\n",
    "## **功能描述**\n",
    "该 LearningRateScheduler 类提供以下几种学习率调度策略：\n",
    "1. **指数衰减（exponential decay）：** 学习率按照指数方式递减，适用于大多数训练任务中希望随着训练进度的增加逐渐减小学习率的场景。\n",
    "2. **阶梯衰减（step decay）：** 学习率在每 decay_steps 步后按 decay_rate 衰减，通常用于在训练过程中间歇性地降低学习率。\n",
    "3. **余弦退火（cosine annealing）：** 学习率遵循余弦函数的变化，在训练的过程中平滑地从初始学习率衰减至最小学习率。\n",
    "4. **循环学习率（cyclic learning rate）：** 学习率在一个给定的周期（cycle_length）内上升并下降，以便模型能够在训练过程中跳出局部最优解。\n",
    "## **类结构**\n",
    "**属性：**\n",
    "- initial_lr：初始学习率。\n",
    "- max_lr：最大学习率，仅适用于循环学习率。\n",
    "- min_lr：最小学习率，仅适用于余弦退火和循环学习率。\n",
    "- decay_rate：衰减速率，用于指数衰减和阶梯衰减。\n",
    "- decay_steps：每 decay_steps 步，学习率按 decay_rate 衰减。\n",
    "\n",
    "**方法：**\n",
    "- exponential_decay(global_step)：计算并返回指数衰减后的学习率。\n",
    "- step_decay(global_step)：计算并返回阶梯衰减后的学习率。\n",
    "- cosine_annealing(global_step, total_steps)：计算并返回根据余弦函数变化的学习率。\n",
    "- cyclic_lr(global_step, cycle_length)：计算并返回周期性变化的学习率。"
   ]
  },
  {
   "cell_type": "markdown",
   "id": "2fedefd4-6a28-4b33-8836-bd2fe39f14e4",
   "metadata": {},
   "source": [
    "## **使用示例**\n",
    "使用公开数据集（ MNIST）来验证各个学习率调度方法的效果。以下是三个简单的测试用例：\n",
    "### **测试代码 1：指数衰减测试**"
   ]
  },
  {
   "cell_type": "code",
   "execution_count": 14,
   "id": "c7c780b9-6e16-4a9c-ac4a-635d47b758bd",
   "metadata": {},
   "outputs": [
    {
     "data": {
      "image/png": "[encoded data removed]",
      "text/plain": [
       "<Figure size 640x480 with 1 Axes>"
      ]
     },
     "metadata": {},
     "output_type": "display_data"
    }
   ],
   "source": [
    "from tensorflow.keras.datasets import mnist\n",
    "import matplotlib.pyplot as plt\n",
    "from Optimizer.LearningRateScheduler import LearningRateScheduler\n",
    "# 载入MNIST数据集\n",
    "(x_train, y_train), (x_test, y_test) = mnist.load_data()\n",
    "x_train, x_test = x_train / 255.0, x_test / 255.0\n",
    "# 初始化学习率调度器\n",
    "scheduler = LearningRateScheduler(initial_lr=0.1, decay_rate=0.01, decay_steps=100)\n",
    "# 生成指数衰减的学习率曲线\n",
    "steps = range(500)\n",
    "learning_rates = [scheduler.exponential_decay(step) for step in steps]\n",
    "# 绘制学习率变化曲线\n",
    "plt.plot(steps, learning_rates)\n",
    "plt.title(\"Exponential Decay Learning Rate\")\n",
    "plt.xlabel(\"Global Step\")\n",
    "plt.ylabel(\"Learning Rate\")\n",
    "plt.show()"
   ]
  },
  {
   "cell_type": "markdown",
   "id": "73a769b9-be00-4b6f-9644-1217b3cb1ceb",
   "metadata": {},
   "source": [
    "### **测试代码 2：阶梯衰减测试**"
   ]
  },
  {
   "cell_type": "code",
   "execution_count": 15,
   "id": "6440a0ed-df46-47f6-a195-b95181f31fb8",
   "metadata": {},
   "outputs": [
    {
     "data": {
      "image/png": "[encoded data removed]",
      "text/plain": [
       "<Figure size 640x480 with 1 Axes>"
      ]
     },
     "metadata": {},
     "output_type": "display_data"
    }
   ],
   "source": [
    "# 初始化学习率调度器\n",
    "scheduler = LearningRateScheduler(initial_lr=0.1, decay_rate=0.5, decay_steps=100)\n",
    "# 生成阶梯衰减的学习率曲线\n",
    "steps = range(500)\n",
    "learning_rates = [scheduler.step_decay(step) for step in steps]\n",
    "# 绘制学习率变化曲线\n",
    "plt.plot(steps, learning_rates)\n",
    "plt.title(\"Step Decay Learning Rate\")\n",
    "plt.xlabel(\"Global Step\")\n",
    "plt.ylabel(\"Learning Rate\")\n",
    "plt.show()"
   ]
  },
  {
   "cell_type": "markdown",
   "id": "06d715e3-5d6a-448d-98f2-adc60ea44c92",
   "metadata": {},
   "source": [
    "### **测试代码 3：余弦退火测试**"
   ]
  },
  {
   "cell_type": "code",
   "execution_count": 16,
   "id": "8bd702d8-e37d-42ea-9b3c-e794347ea074",
   "metadata": {},
   "outputs": [
    {
     "data": {
      "image/png": "[encoded data removed]",
      "text/plain": [
       "<Figure size 640x480 with 1 Axes>"
      ]
     },
     "metadata": {},
     "output_type": "display_data"
    }
   ],
   "source": [
    "# 初始化学习率调度器\n",
    "scheduler = LearningRateScheduler(initial_lr=0.1, min_lr=0.001, decay_rate=None, decay_steps=None)\n",
    "# 生成余弦退火的学习率曲线\n",
    "steps = range(500)\n",
    "learning_rates = [scheduler.cosine_annealing(step, total_steps=500) for step in steps]\n",
    "# 绘制学习率变化曲线\n",
    "plt.plot(steps, learning_rates)\n",
    "plt.title(\"Cosine Annealing Learning Rate\")\n",
    "plt.xlabel(\"Global Step\")\n",
    "plt.ylabel(\"Learning Rate\")\n",
    "plt.show()"
   ]
  },
  {
   "cell_type": "markdown",
   "id": "75da46d5-b4c1-40b1-889d-2d089f86b826",
   "metadata": {},
   "source": [
    "## **总结**\n",
    "- LearningRateScheduler 类通过提供多种学习率调度方法，帮助优化训练过程中的学习率管理，避免了手动调整学习率的麻烦。\n",
    "- 该类支持常见的衰减策略，适用于大多数深度学习任务中的优化问题。"
   ]
  },
  {
   "cell_type": "markdown",
   "id": "d3d305c3-eae4-49a2-a5c3-f1ae2ee892ba",
   "metadata": {},
   "source": [
    "---"
   ]
  },
  {
   "cell_type": "markdown",
   "id": "149608c9-e3b1-41cd-b9ea-1c16057f42de",
   "metadata": {},
   "source": [
    "# **混合精度训练类**：MixedPrecisionTrainer \n",
    "## **概述**\n",
    "MixedPrecisionTrainer 类实现了混合精度训练的核心方法。混合精度训练是一种通过使用低精度浮动数（如半精度浮点数 float16）来加速训练并减少内存占用的技术，适用于深度学习中的大规模模型训练。该类提供了模型参数转换、损失计算、反向传播、参数更新等功能，并通过动态决定是否启用混合精度训练来优化计算性能。\n",
    "## **功能描述**\n",
    "1. convert_to_half_precision:\n",
    "- 将模型的参数转换为半精度（float16），如果启用了混合精度训练。\n",
    "\n",
    "2. compute_loss:\n",
    "- 计算模型输出与目标之间的损失，采用均方误差（MSE）损失函数。\n",
    "\n",
    "3. backward:\n",
    "- 进行反向传播，计算梯度并进行缩放（如果启用了混合精度训练，梯度会按比例放大）。\n",
    "\n",
    "4. update_params:\n",
    "- 根据计算得到的梯度更新模型参数，使用给定的学习率进行参数更新。\n",
    "\n",
    "5. train_step:\n",
    "- 进行一次训练步骤，包括损失计算、梯度更新和参数更新。\n",
    "## **类结构**\n",
    "**属性:**\n",
    "- learning_rate: 用于参数更新的学习率。\n",
    "- scale_factor: 用于缩放梯度的因子（如果启用混合精度训练）。\n",
    "- use_mixed_precision: 是否启用混合精度训练（布尔值）。\n",
    "\n",
    "**方法:**\n",
    "- convert_to_half_precision(model): 将模型转换为半精度。\n",
    "- compute_loss(model_output, target): 计算损失。\n",
    "- backward(model, gradients, use_mixed_precision): 计算梯度并根据是否使用混合精度进行缩放。\n",
    "- update_params(model, gradients): 更新模型的参数。\n",
    "- train_step(model, target, model_output, gradients): 进行一个训练步骤，包括损失计算、反向传播和参数更新。"
   ]
  },
  {
   "cell_type": "markdown",
   "id": "6fab3429-7dbe-41eb-8b32-386ed2a01799",
   "metadata": {},
   "source": [
    "## **使用示例**"
   ]
  },
  {
   "cell_type": "markdown",
   "id": "312b0ae1-e06d-4875-9a39-ba95bfeef7e6",
   "metadata": {},
   "source": [
    "### **测试用例1：加州房价数据集**"
   ]
  },
  {
   "cell_type": "code",
   "execution_count": 2,
   "id": "26cd9aaa-edc7-4c33-a4fa-a099442eed27",
   "metadata": {},
   "outputs": [
    {
     "data": {
      "image/png": "[encoded data removed]",
      "text/plain": [
       "<Figure size 640x480 with 1 Axes>"
      ]
     },
     "metadata": {},
     "output_type": "display_data"
    }
   ],
   "source": [
    "import numpy as np\n",
    "import matplotlib.pyplot as plt\n",
    "from sklearn.datasets import fetch_california_housing\n",
    "from sklearn.model_selection import train_test_split\n",
    "from sklearn.preprocessing import StandardScaler\n",
    "from Optimizer.MixedPrecisionTrainer import MixedPrecisionTrainer\n",
    "def test_mixed_precision_trainer_with_california():\n",
    "    data = fetch_california_housing()\n",
    "    X_train, X_test, y_train, y_test = train_test_split(data.data, data.target, test_size=0.2, random_state=42)\n",
    "    scaler = StandardScaler()\n",
    "    X_train = scaler.fit_transform(X_train)\n",
    "    X_test = scaler.transform(X_test)\n",
    "    model = {'weights': np.random.randn(X_train.shape[1]).astype(np.float32), 'bias': np.float32(np.random.randn())}\n",
    "    trainer = MixedPrecisionTrainer(learning_rate=0.01, scale_factor=2.0, use_mixed_precision=True)\n",
    "    losses = []\n",
    "    for _ in range(100):\n",
    "        model_output = np.dot(X_train, model['weights']) + model['bias']\n",
    "        gradients = {'weights': np.dot(X_train.T, (model_output - y_train)) / len(y_train),\n",
    "                     'bias': np.mean(model_output - y_train)}\n",
    "        model, loss = trainer.train_step(model, y_train, model_output, gradients)\n",
    "        losses.append(loss)\n",
    "    plt.plot(losses)\n",
    "    plt.xlabel('Epoch')\n",
    "    plt.ylabel('Loss')\n",
    "    plt.title('Training Loss (California)')\n",
    "    plt.show()\n",
    "# 运行测试用例\n",
    "test_mixed_precision_trainer_with_california()"
   ]
  },
  {
   "cell_type": "markdown",
   "id": "e33923ec-bbb1-4f7f-b25c-5be580e36b89",
   "metadata": {},
   "source": [
    "### **测试用例2：糖尿病数据集**"
   ]
  },
  {
   "cell_type": "code",
   "execution_count": 3,
   "id": "0ccd128d-7c5d-4c28-8406-eb0897cd5adf",
   "metadata": {},
   "outputs": [
    {
     "data": {
      "image/png": "[encoded data removed]",
      "text/plain": [
       "<Figure size 640x480 with 1 Axes>"
      ]
     },
     "metadata": {},
     "output_type": "display_data"
    }
   ],
   "source": [
    "import numpy as np\n",
    "import matplotlib.pyplot as plt\n",
    "from sklearn.datasets import load_diabetes\n",
    "from sklearn.model_selection import train_test_split\n",
    "from sklearn.preprocessing import StandardScaler\n",
    "from Optimizer.MixedPrecisionTrainer import MixedPrecisionTrainer\n",
    "def test_mixed_precision_trainer_with_diabetes():\n",
    "    data = load_diabetes()\n",
    "    X_train, X_test, y_train, y_test = train_test_split(data.data, data.target, test_size=0.2, random_state=42)\n",
    "    scaler = StandardScaler()\n",
    "    X_train = scaler.fit_transform(X_train)\n",
    "    X_test = scaler.transform(X_test)\n",
    "    model = {'weights': np.random.randn(X_train.shape[1]).astype(np.float32), 'bias': np.float32(np.random.randn())}\n",
    "    trainer = MixedPrecisionTrainer(learning_rate=0.01, scale_factor=2.0, use_mixed_precision=True)\n",
    "    losses = []\n",
    "    for _ in range(100):\n",
    "        model_output = np.dot(X_train, model['weights']) + model['bias']\n",
    "        gradients = {'weights': np.dot(X_train.T, (model_output - y_train)) / len(y_train),\n",
    "                     'bias': np.mean(model_output - y_train)}\n",
    "        model, loss = trainer.train_step(model, y_train, model_output, gradients)\n",
    "        losses.append(loss)\n",
    "    plt.plot(losses)\n",
    "    plt.xlabel('Epoch')\n",
    "    plt.ylabel('Loss')\n",
    "    plt.title('Training Loss (Diabetes)')\n",
    "    plt.show()\n",
    "# 运行测试用例\n",
    "test_mixed_precision_trainer_with_diabetes()"
   ]
  },
  {
   "cell_type": "markdown",
   "id": "20b623fc-ccbd-4876-b716-3bac0e9a6867",
   "metadata": {},
   "source": [
    "### **测试用例3：乳腺癌数据集**"
   ]
  },
  {
   "cell_type": "code",
   "execution_count": 4,
   "id": "0707aa63-4a5a-411d-a273-f09d4737dc24",
   "metadata": {},
   "outputs": [
    {
     "data": {
      "image/png": "[encoded data removed]",
      "text/plain": [
       "<Figure size 640x480 with 1 Axes>"
      ]
     },
     "metadata": {},
     "output_type": "display_data"
    }
   ],
   "source": [
    "import numpy as np\n",
    "import matplotlib.pyplot as plt\n",
    "from sklearn.datasets import load_breast_cancer\n",
    "from sklearn.model_selection import train_test_split\n",
    "from sklearn.preprocessing import StandardScaler\n",
    "from Optimizer.MixedPrecisionTrainer import MixedPrecisionTrainer\n",
    "def test_mixed_precision_trainer_with_breast_cancer():\n",
    "    data = load_breast_cancer()\n",
    "    X_train, X_test, y_train, y_test = train_test_split(data.data, data.target, test_size=0.2, random_state=42)\n",
    "    scaler = StandardScaler()\n",
    "    X_train = scaler.fit_transform(X_train)\n",
    "    X_test = scaler.transform(X_test)\n",
    "    model = {'weights': np.random.randn(X_train.shape[1]).astype(np.float32), 'bias': np.float32(np.random.randn())}\n",
    "    trainer = MixedPrecisionTrainer(learning_rate=0.01, scale_factor=2.0, use_mixed_precision=True)\n",
    "    losses = []\n",
    "    for _ in range(100):\n",
    "        model_output = np.dot(X_train, model['weights']) + model['bias']\n",
    "        gradients = {'weights': np.dot(X_train.T, (model_output - y_train)) / len(y_train),\n",
    "                     'bias': np.mean(model_output - y_train)}\n",
    "        model, loss = trainer.train_step(model, y_train, model_output, gradients)\n",
    "        losses.append(loss)\n",
    "    plt.plot(losses)\n",
    "    plt.xlabel('Epoch')\n",
    "    plt.ylabel('Loss')\n",
    "    plt.title('Training Loss (Breast Cancer)')\n",
    "    plt.show()\n",
    "# 运行测试用例\n",
    "test_mixed_precision_trainer_with_breast_cancer()"
   ]
  },
  {
   "cell_type": "markdown",
   "id": "1a364680-c064-463f-8ddb-526d310bdc29",
   "metadata": {},
   "source": [
    "---"
   ]
  },
  {
   "cell_type": "markdown",
   "id": "bb6196bb-84a8-4431-8b80-080a49446f4a",
   "metadata": {},
   "source": [
    "# **投票分类器类**：VotingClassifier\n",
    "## **概述**\n",
    "VotingClassifier 是一个集成学习模型，它通过结合多个分类器的预测结果，采用多数投票的方式来提高分类准确率。本报告将详细描述其功能、类结构，并通过具体示例进行测试。\n",
    "## **功能描述**\n",
    "VotingClassifier 提供了以下核心功能：\n",
    "- **fit：** 训练多个分类器。\n",
    "- **predict：** 结合多个分类器的预测结果，通过投票决策最终的分类结果。\n",
    "\n",
    "## **类结构**"
   ]
  },
  {
   "cell_type": "code",
   "execution_count": null,
   "id": "698dd211-e922-4e0f-9572-384727f93dc7",
   "metadata": {},
   "outputs": [],
   "source": [
    "import numpy as np\n",
    "\n",
    "class VotingClassifier:\n",
    "    def __init__(self, classifiers):\n",
    "        self.classifiers = classifiers\n",
    "\n",
    "    def fit(self, X, y):\n",
    "        for name, clf in self.classifiers.items():\n",
    "            clf.fit(X, y)\n",
    "\n",
    "    def predict(self, X):\n",
    "        predictions = np.zeros((len(X), len(self.classifiers)))\n",
    "        for i, (name, clf) in enumerate(self.classifiers.items()):\n",
    "            predictions[:, i] = clf.predict(X)\n",
    "        # 对每个样本进行投票，选择最常见的标签\n",
    "        final_predictions = []\n",
    "        for i in range(len(X)):\n",
    "            final_predictions.append(np.argmax(np.bincount(predictions[i, :].astype(int))))\n",
    "        return np.array(final_predictions)\n"
   ]
  },
  {
   "cell_type": "markdown",
   "id": "9b750039-4c79-4175-bff9-c47047139284",
   "metadata": {},
   "source": [
    "## **初始化**\n",
    "**参数：**\n",
    "- **classifiers：** 一个字典，包含多个分类器。\n",
    "## **方法**\n",
    "### **fit(X, y)：**\n",
    "#### **参数：**\n",
    "- X：训练数据特征。\n",
    "- y：训练数据标签。\n",
    "#### **功能：** 训练多个分类器。\n",
    "### **predict(X)：**\n",
    "#### **参数：**\n",
    "- X：测试数据特征。\n",
    "#### **功能：** 结合多个分类器的预测结果，返回最终的投票结果。\n",
    "## **使用示例**\n",
    "以下示例将使用 sklearn 中的鸢尾花、葡萄酒和乳腺癌数据集进行测试。"
   ]
  },
  {
   "cell_type": "markdown",
   "id": "19589a3e-aae7-4c6a-a946-23c48fa82b0f",
   "metadata": {},
   "source": [
    "### **示例1：鸢尾花数据集**"
   ]
  },
  {
   "cell_type": "code",
   "execution_count": 5,
   "id": "2b439ae8-5db0-4ca7-b2f5-4bb156b44905",
   "metadata": {},
   "outputs": [
    {
     "name": "stdout",
     "output_type": "stream",
     "text": [
      "Epoch 1, Accuracy: 1.00\n",
      "Epoch 2, Accuracy: 1.00\n",
      "Epoch 3, Accuracy: 1.00\n",
      "Epoch 4, Accuracy: 1.00\n",
      "Epoch 5, Accuracy: 1.00\n",
      "Epoch 6, Accuracy: 1.00\n",
      "Epoch 7, Accuracy: 1.00\n",
      "Epoch 8, Accuracy: 1.00\n",
      "Epoch 9, Accuracy: 1.00\n",
      "Epoch 10, Accuracy: 1.00\n",
      "Epoch 11, Accuracy: 1.00\n",
      "Epoch 12, Accuracy: 1.00\n",
      "Epoch 13, Accuracy: 1.00\n",
      "Epoch 14, Accuracy: 1.00\n",
      "Epoch 15, Accuracy: 1.00\n",
      "Epoch 16, Accuracy: 1.00\n",
      "Epoch 17, Accuracy: 1.00\n",
      "Epoch 18, Accuracy: 1.00\n",
      "Epoch 19, Accuracy: 1.00\n",
      "Epoch 20, Accuracy: 1.00\n",
      "Epoch 21, Accuracy: 1.00\n",
      "Epoch 22, Accuracy: 1.00\n",
      "Epoch 23, Accuracy: 1.00\n",
      "Epoch 24, Accuracy: 1.00\n",
      "Epoch 25, Accuracy: 1.00\n",
      "Epoch 26, Accuracy: 1.00\n",
      "Epoch 27, Accuracy: 1.00\n",
      "Epoch 28, Accuracy: 1.00\n",
      "Epoch 29, Accuracy: 1.00\n",
      "Epoch 30, Accuracy: 1.00\n",
      "Epoch 31, Accuracy: 1.00\n",
      "Epoch 32, Accuracy: 1.00\n",
      "Epoch 33, Accuracy: 1.00\n",
      "Epoch 34, Accuracy: 1.00\n",
      "Epoch 35, Accuracy: 1.00\n",
      "Epoch 36, Accuracy: 1.00\n",
      "Epoch 37, Accuracy: 1.00\n",
      "Epoch 38, Accuracy: 1.00\n",
      "Epoch 39, Accuracy: 1.00\n",
      "Epoch 40, Accuracy: 1.00\n",
      "Epoch 41, Accuracy: 1.00\n",
      "Epoch 42, Accuracy: 1.00\n",
      "Epoch 43, Accuracy: 1.00\n",
      "Epoch 44, Accuracy: 1.00\n",
      "Epoch 45, Accuracy: 1.00\n",
      "Epoch 46, Accuracy: 1.00\n",
      "Epoch 47, Accuracy: 1.00\n",
      "Epoch 48, Accuracy: 1.00\n",
      "Epoch 49, Accuracy: 1.00\n",
      "Epoch 50, Accuracy: 1.00\n",
      "Epoch 51, Accuracy: 1.00\n",
      "Epoch 52, Accuracy: 1.00\n",
      "Epoch 53, Accuracy: 1.00\n",
      "Epoch 54, Accuracy: 1.00\n",
      "Epoch 55, Accuracy: 1.00\n",
      "Epoch 56, Accuracy: 1.00\n",
      "Epoch 57, Accuracy: 1.00\n",
      "Epoch 58, Accuracy: 1.00\n",
      "Epoch 59, Accuracy: 1.00\n",
      "Epoch 60, Accuracy: 1.00\n",
      "Epoch 61, Accuracy: 1.00\n",
      "Epoch 62, Accuracy: 1.00\n",
      "Epoch 63, Accuracy: 1.00\n",
      "Epoch 64, Accuracy: 1.00\n",
      "Epoch 65, Accuracy: 1.00\n",
      "Epoch 66, Accuracy: 1.00\n",
      "Epoch 67, Accuracy: 1.00\n",
      "Epoch 68, Accuracy: 1.00\n",
      "Epoch 69, Accuracy: 1.00\n",
      "Epoch 70, Accuracy: 1.00\n",
      "Epoch 71, Accuracy: 1.00\n",
      "Epoch 72, Accuracy: 1.00\n",
      "Epoch 73, Accuracy: 1.00\n",
      "Epoch 74, Accuracy: 1.00\n",
      "Epoch 75, Accuracy: 1.00\n",
      "Epoch 76, Accuracy: 1.00\n",
      "Epoch 77, Accuracy: 1.00\n",
      "Epoch 78, Accuracy: 1.00\n",
      "Epoch 79, Accuracy: 1.00\n",
      "Epoch 80, Accuracy: 1.00\n",
      "Epoch 81, Accuracy: 1.00\n",
      "Epoch 82, Accuracy: 1.00\n",
      "Epoch 83, Accuracy: 1.00\n",
      "Epoch 84, Accuracy: 1.00\n",
      "Epoch 85, Accuracy: 1.00\n",
      "Epoch 86, Accuracy: 1.00\n",
      "Epoch 87, Accuracy: 1.00\n",
      "Epoch 88, Accuracy: 1.00\n",
      "Epoch 89, Accuracy: 1.00\n",
      "Epoch 90, Accuracy: 1.00\n",
      "Epoch 91, Accuracy: 1.00\n",
      "Epoch 92, Accuracy: 1.00\n",
      "Epoch 93, Accuracy: 1.00\n",
      "Epoch 94, Accuracy: 1.00\n",
      "Epoch 95, Accuracy: 1.00\n",
      "Epoch 96, Accuracy: 1.00\n",
      "Epoch 97, Accuracy: 1.00\n",
      "Epoch 98, Accuracy: 1.00\n",
      "Epoch 99, Accuracy: 1.00\n",
      "Epoch 100, Accuracy: 1.00\n"
     ]
    },
    {
     "data": {
      "image/png": "[encoded data removed]",
      "text/plain": [
       "<Figure size 640x480 with 1 Axes>"
      ]
     },
     "metadata": {},
     "output_type": "display_data"
    }
   ],
   "source": [
    "from sklearn.datasets import load_iris\n",
    "from sklearn.model_selection import train_test_split\n",
    "from sklearn.preprocessing import StandardScaler\n",
    "from sklearn.linear_model import LogisticRegression\n",
    "from sklearn.ensemble import RandomForestClassifier\n",
    "from sklearn.svm import SVC\n",
    "import matplotlib.pyplot as plt\n",
    "import numpy as np\n",
    "from Optimizer.VotingClassifier import VotingClassifier\n",
    "def test_voting_classifier_with_iris():\n",
    "    data = load_iris()\n",
    "    X_train, X_test, y_train, y_test = train_test_split(data.data, data.target, test_size=0.2, random_state=42)\n",
    "    scaler = StandardScaler()\n",
    "    X_train = scaler.fit_transform(X_train)\n",
    "    X_test = scaler.transform(X_test)\n",
    "    classifiers = {\n",
    "        'Logistic Regression': LogisticRegression(),\n",
    "        'Random Forest': RandomForestClassifier(),\n",
    "        'SVM': SVC(probability=True)\n",
    "    }\n",
    "    voting_clf = VotingClassifier(classifiers)\n",
    "    voting_clf.fit(X_train, y_train)\n",
    "    epochs = 100\n",
    "    accuracies = []\n",
    "    for epoch in range(epochs):\n",
    "        y_pred = voting_clf.predict(X_test)\n",
    "        accuracy = np.mean(y_pred == y_test)\n",
    "        accuracies.append(accuracy)\n",
    "        print(f'Epoch {epoch + 1}, Accuracy: {accuracy:.2f}')\n",
    "    plt.plot(range(1, epochs + 1), accuracies)\n",
    "    plt.xlabel('Epoch')\n",
    "    plt.ylabel('Accuracy')\n",
    "    plt.title('Training Accuracy (Iris)')\n",
    "    plt.show()\n",
    "# 运行测试用例\n",
    "test_voting_classifier_with_iris()"
   ]
  },
  {
   "cell_type": "markdown",
   "id": "f7135d2e-b0af-458b-8cc7-5ac0c8779d63",
   "metadata": {},
   "source": [
    "### **示例2：葡萄酒数据集**"
   ]
  },
  {
   "cell_type": "code",
   "execution_count": 6,
   "id": "841734f3-105c-4801-bf71-22ca1c3f60c4",
   "metadata": {},
   "outputs": [
    {
     "name": "stdout",
     "output_type": "stream",
     "text": [
      "Epoch 1, Accuracy: 1.00\n",
      "Epoch 2, Accuracy: 1.00\n",
      "Epoch 3, Accuracy: 1.00\n",
      "Epoch 4, Accuracy: 1.00\n",
      "Epoch 5, Accuracy: 1.00\n",
      "Epoch 6, Accuracy: 1.00\n",
      "Epoch 7, Accuracy: 1.00\n",
      "Epoch 8, Accuracy: 1.00\n",
      "Epoch 9, Accuracy: 1.00\n",
      "Epoch 10, Accuracy: 1.00\n",
      "Epoch 11, Accuracy: 1.00\n",
      "Epoch 12, Accuracy: 1.00\n",
      "Epoch 13, Accuracy: 1.00\n",
      "Epoch 14, Accuracy: 1.00\n",
      "Epoch 15, Accuracy: 1.00\n",
      "Epoch 16, Accuracy: 1.00\n",
      "Epoch 17, Accuracy: 1.00\n",
      "Epoch 18, Accuracy: 1.00\n",
      "Epoch 19, Accuracy: 1.00\n",
      "Epoch 20, Accuracy: 1.00\n",
      "Epoch 21, Accuracy: 1.00\n",
      "Epoch 22, Accuracy: 1.00\n",
      "Epoch 23, Accuracy: 1.00\n",
      "Epoch 24, Accuracy: 1.00\n",
      "Epoch 25, Accuracy: 1.00\n",
      "Epoch 26, Accuracy: 1.00\n",
      "Epoch 27, Accuracy: 1.00\n",
      "Epoch 28, Accuracy: 1.00\n",
      "Epoch 29, Accuracy: 1.00\n",
      "Epoch 30, Accuracy: 1.00\n",
      "Epoch 31, Accuracy: 1.00\n",
      "Epoch 32, Accuracy: 1.00\n",
      "Epoch 33, Accuracy: 1.00\n",
      "Epoch 34, Accuracy: 1.00\n",
      "Epoch 35, Accuracy: 1.00\n",
      "Epoch 36, Accuracy: 1.00\n",
      "Epoch 37, Accuracy: 1.00\n",
      "Epoch 38, Accuracy: 1.00\n",
      "Epoch 39, Accuracy: 1.00\n",
      "Epoch 40, Accuracy: 1.00\n",
      "Epoch 41, Accuracy: 1.00\n",
      "Epoch 42, Accuracy: 1.00\n",
      "Epoch 43, Accuracy: 1.00\n",
      "Epoch 44, Accuracy: 1.00\n",
      "Epoch 45, Accuracy: 1.00\n",
      "Epoch 46, Accuracy: 1.00\n",
      "Epoch 47, Accuracy: 1.00\n",
      "Epoch 48, Accuracy: 1.00\n",
      "Epoch 49, Accuracy: 1.00\n",
      "Epoch 50, Accuracy: 1.00\n",
      "Epoch 51, Accuracy: 1.00\n",
      "Epoch 52, Accuracy: 1.00\n",
      "Epoch 53, Accuracy: 1.00\n",
      "Epoch 54, Accuracy: 1.00\n",
      "Epoch 55, Accuracy: 1.00\n",
      "Epoch 56, Accuracy: 1.00\n",
      "Epoch 57, Accuracy: 1.00\n",
      "Epoch 58, Accuracy: 1.00\n",
      "Epoch 59, Accuracy: 1.00\n",
      "Epoch 60, Accuracy: 1.00\n",
      "Epoch 61, Accuracy: 1.00\n",
      "Epoch 62, Accuracy: 1.00\n",
      "Epoch 63, Accuracy: 1.00\n",
      "Epoch 64, Accuracy: 1.00\n",
      "Epoch 65, Accuracy: 1.00\n",
      "Epoch 66, Accuracy: 1.00\n",
      "Epoch 67, Accuracy: 1.00\n",
      "Epoch 68, Accuracy: 1.00\n",
      "Epoch 69, Accuracy: 1.00\n",
      "Epoch 70, Accuracy: 1.00\n",
      "Epoch 71, Accuracy: 1.00\n",
      "Epoch 72, Accuracy: 1.00\n",
      "Epoch 73, Accuracy: 1.00\n",
      "Epoch 74, Accuracy: 1.00\n",
      "Epoch 75, Accuracy: 1.00\n",
      "Epoch 76, Accuracy: 1.00\n",
      "Epoch 77, Accuracy: 1.00\n",
      "Epoch 78, Accuracy: 1.00\n",
      "Epoch 79, Accuracy: 1.00\n",
      "Epoch 80, Accuracy: 1.00\n",
      "Epoch 81, Accuracy: 1.00\n",
      "Epoch 82, Accuracy: 1.00\n",
      "Epoch 83, Accuracy: 1.00\n",
      "Epoch 84, Accuracy: 1.00\n",
      "Epoch 85, Accuracy: 1.00\n",
      "Epoch 86, Accuracy: 1.00\n",
      "Epoch 87, Accuracy: 1.00\n",
      "Epoch 88, Accuracy: 1.00\n",
      "Epoch 89, Accuracy: 1.00\n",
      "Epoch 90, Accuracy: 1.00\n",
      "Epoch 91, Accuracy: 1.00\n",
      "Epoch 92, Accuracy: 1.00\n",
      "Epoch 93, Accuracy: 1.00\n",
      "Epoch 94, Accuracy: 1.00\n",
      "Epoch 95, Accuracy: 1.00\n",
      "Epoch 96, Accuracy: 1.00\n",
      "Epoch 97, Accuracy: 1.00\n",
      "Epoch 98, Accuracy: 1.00\n",
      "Epoch 99, Accuracy: 1.00\n",
      "Epoch 100, Accuracy: 1.00\n"
     ]
    },
    {
     "data": {
      "image/png": "[encoded data removed]",
      "text/plain": [
       "<Figure size 640x480 with 1 Axes>"
      ]
     },
     "metadata": {},
     "output_type": "display_data"
    }
   ],
   "source": [
    "from sklearn.datasets import load_wine\n",
    "from sklearn.model_selection import train_test_split\n",
    "from sklearn.preprocessing import StandardScaler\n",
    "from sklearn.linear_model import LogisticRegression\n",
    "from sklearn.ensemble import RandomForestClassifier\n",
    "from sklearn.svm import SVC\n",
    "import matplotlib.pyplot as plt\n",
    "import numpy as np\n",
    "from Optimizer.VotingClassifier import VotingClassifier\n",
    "def test_voting_classifier_with_wine():\n",
    "    data = load_wine()\n",
    "    X_train, X_test, y_train, y_test = train_test_split(data.data, data.target, test_size=0.2, random_state=42)\n",
    "    scaler = StandardScaler()\n",
    "    X_train = scaler.fit_transform(X_train)\n",
    "    X_test = scaler.transform(X_test)\n",
    "    classifiers = {\n",
    "        'Logistic Regression': LogisticRegression(),\n",
    "        'Random Forest': RandomForestClassifier(),\n",
    "        'SVM': SVC(probability=True)\n",
    "    }\n",
    "    voting_clf = VotingClassifier(classifiers)\n",
    "    voting_clf.fit(X_train, y_train)\n",
    "    epochs = 100\n",
    "    accuracies = []\n",
    "    for epoch in range(epochs):\n",
    "        y_pred = voting_clf.predict(X_test)\n",
    "        accuracy = np.mean(y_pred == y_test)\n",
    "        accuracies.append(accuracy)\n",
    "        print(f'Epoch {epoch + 1}, Accuracy: {accuracy:.2f}')\n",
    "    plt.plot(range(1, epochs + 1), accuracies)\n",
    "    plt.xlabel('Epoch')\n",
    "    plt.ylabel('Accuracy')\n",
    "    plt.title('Training Accuracy (Wine)')\n",
    "    plt.show()\n",
    "# 运行测试用例\n",
    "test_voting_classifier_with_wine()"
   ]
  },
  {
   "cell_type": "markdown",
   "id": "d49762e8-6473-4df1-a7a6-9203075638e4",
   "metadata": {},
   "source": [
    "### **示例3：乳腺癌数据集**"
   ]
  },
  {
   "cell_type": "code",
   "execution_count": 7,
   "id": "32968dba-ea44-4202-8e07-7413eabb9221",
   "metadata": {},
   "outputs": [
    {
     "name": "stdout",
     "output_type": "stream",
     "text": [
      "Epoch 1, Accuracy: 0.98\n",
      "Epoch 2, Accuracy: 0.98\n",
      "Epoch 3, Accuracy: 0.98\n",
      "Epoch 4, Accuracy: 0.98\n",
      "Epoch 5, Accuracy: 0.98\n",
      "Epoch 6, Accuracy: 0.98\n",
      "Epoch 7, Accuracy: 0.98\n",
      "Epoch 8, Accuracy: 0.98\n",
      "Epoch 9, Accuracy: 0.98\n",
      "Epoch 10, Accuracy: 0.98\n",
      "Epoch 11, Accuracy: 0.98\n",
      "Epoch 12, Accuracy: 0.98\n",
      "Epoch 13, Accuracy: 0.98\n",
      "Epoch 14, Accuracy: 0.98\n",
      "Epoch 15, Accuracy: 0.98\n",
      "Epoch 16, Accuracy: 0.98\n",
      "Epoch 17, Accuracy: 0.98\n",
      "Epoch 18, Accuracy: 0.98\n",
      "Epoch 19, Accuracy: 0.98\n",
      "Epoch 20, Accuracy: 0.98\n",
      "Epoch 21, Accuracy: 0.98\n",
      "Epoch 22, Accuracy: 0.98\n",
      "Epoch 23, Accuracy: 0.98\n",
      "Epoch 24, Accuracy: 0.98\n",
      "Epoch 25, Accuracy: 0.98\n",
      "Epoch 26, Accuracy: 0.98\n",
      "Epoch 27, Accuracy: 0.98\n",
      "Epoch 28, Accuracy: 0.98\n",
      "Epoch 29, Accuracy: 0.98\n",
      "Epoch 30, Accuracy: 0.98\n",
      "Epoch 31, Accuracy: 0.98\n",
      "Epoch 32, Accuracy: 0.98\n",
      "Epoch 33, Accuracy: 0.98\n",
      "Epoch 34, Accuracy: 0.98\n",
      "Epoch 35, Accuracy: 0.98\n",
      "Epoch 36, Accuracy: 0.98\n",
      "Epoch 37, Accuracy: 0.98\n",
      "Epoch 38, Accuracy: 0.98\n",
      "Epoch 39, Accuracy: 0.98\n",
      "Epoch 40, Accuracy: 0.98\n",
      "Epoch 41, Accuracy: 0.98\n",
      "Epoch 42, Accuracy: 0.98\n",
      "Epoch 43, Accuracy: 0.98\n",
      "Epoch 44, Accuracy: 0.98\n",
      "Epoch 45, Accuracy: 0.98\n",
      "Epoch 46, Accuracy: 0.98\n",
      "Epoch 47, Accuracy: 0.98\n",
      "Epoch 48, Accuracy: 0.98\n",
      "Epoch 49, Accuracy: 0.98\n",
      "Epoch 50, Accuracy: 0.98\n",
      "Epoch 51, Accuracy: 0.98\n",
      "Epoch 52, Accuracy: 0.98\n",
      "Epoch 53, Accuracy: 0.98\n",
      "Epoch 54, Accuracy: 0.98\n",
      "Epoch 55, Accuracy: 0.98\n",
      "Epoch 56, Accuracy: 0.98\n",
      "Epoch 57, Accuracy: 0.98\n",
      "Epoch 58, Accuracy: 0.98\n",
      "Epoch 59, Accuracy: 0.98\n",
      "Epoch 60, Accuracy: 0.98\n",
      "Epoch 61, Accuracy: 0.98\n",
      "Epoch 62, Accuracy: 0.98\n",
      "Epoch 63, Accuracy: 0.98\n",
      "Epoch 64, Accuracy: 0.98\n",
      "Epoch 65, Accuracy: 0.98\n",
      "Epoch 66, Accuracy: 0.98\n",
      "Epoch 67, Accuracy: 0.98\n",
      "Epoch 68, Accuracy: 0.98\n",
      "Epoch 69, Accuracy: 0.98\n",
      "Epoch 70, Accuracy: 0.98\n",
      "Epoch 71, Accuracy: 0.98\n",
      "Epoch 72, Accuracy: 0.98\n",
      "Epoch 73, Accuracy: 0.98\n",
      "Epoch 74, Accuracy: 0.98\n",
      "Epoch 75, Accuracy: 0.98\n",
      "Epoch 76, Accuracy: 0.98\n",
      "Epoch 77, Accuracy: 0.98\n",
      "Epoch 78, Accuracy: 0.98\n",
      "Epoch 79, Accuracy: 0.98\n",
      "Epoch 80, Accuracy: 0.98\n",
      "Epoch 81, Accuracy: 0.98\n",
      "Epoch 82, Accuracy: 0.98\n",
      "Epoch 83, Accuracy: 0.98\n",
      "Epoch 84, Accuracy: 0.98\n",
      "Epoch 85, Accuracy: 0.98\n",
      "Epoch 86, Accuracy: 0.98\n",
      "Epoch 87, Accuracy: 0.98\n",
      "Epoch 88, Accuracy: 0.98\n",
      "Epoch 89, Accuracy: 0.98\n",
      "Epoch 90, Accuracy: 0.98\n",
      "Epoch 91, Accuracy: 0.98\n",
      "Epoch 92, Accuracy: 0.98\n",
      "Epoch 93, Accuracy: 0.98\n",
      "Epoch 94, Accuracy: 0.98\n",
      "Epoch 95, Accuracy: 0.98\n",
      "Epoch 96, Accuracy: 0.98\n",
      "Epoch 97, Accuracy: 0.98\n",
      "Epoch 98, Accuracy: 0.98\n",
      "Epoch 99, Accuracy: 0.98\n",
      "Epoch 100, Accuracy: 0.98\n"
     ]
    },
    {
     "data": {
      "image/png": "[encoded data removed]",
      "text/plain": [
       "<Figure size 640x480 with 1 Axes>"
      ]
     },
     "metadata": {},
     "output_type": "display_data"
    }
   ],
   "source": [
    "from sklearn.datasets import load_breast_cancer\n",
    "from sklearn.model_selection import train_test_split\n",
    "from sklearn.preprocessing import StandardScaler\n",
    "from sklearn.linear_model import LogisticRegression\n",
    "from sklearn.ensemble import RandomForestClassifier\n",
    "from sklearn.svm import SVC\n",
    "import matplotlib.pyplot as plt\n",
    "import numpy as np\n",
    "from Optimizer.VotingClassifier import VotingClassifier\n",
    "def test_voting_classifier_with_breast_cancer():\n",
    "    data = load_breast_cancer()\n",
    "    X_train, X_test, y_train, y_test = train_test_split(data.data, data.target, test_size=0.2, random_state=42)\n",
    "    scaler = StandardScaler()\n",
    "    X_train = scaler.fit_transform(X_train)\n",
    "    X_test = scaler.transform(X_test)\n",
    "    classifiers = {\n",
    "        'Logistic Regression': LogisticRegression(),\n",
    "        'Random Forest': RandomForestClassifier(),\n",
    "        'SVM': SVC(probability=True)\n",
    "    }\n",
    "    voting_clf = VotingClassifier(classifiers)\n",
    "    voting_clf.fit(X_train, y_train)\n",
    "    epochs = 100\n",
    "    accuracies = []\n",
    "    for epoch in range(epochs):\n",
    "        y_pred = voting_clf.predict(X_test)\n",
    "        accuracy = np.mean(y_pred == y_test)\n",
    "        accuracies.append(accuracy)\n",
    "        print(f'Epoch {epoch + 1}, Accuracy: {accuracy:.2f}')\n",
    "    plt.plot(range(1, epochs + 1), accuracies)\n",
    "    plt.xlabel('Epoch')\n",
    "    plt.ylabel('Accuracy')\n",
    "    plt.title('Training Accuracy (Breast Cancer)')\n",
    "    plt.show()\n",
    "# 运行测试用例\n",
    "test_voting_classifier_with_breast_cancer()"
   ]
  },
  {
   "cell_type": "markdown",
   "id": "f8216d13-303c-4959-a835-3f9d7b56632b",
   "metadata": {},
   "source": [
    "---"
   ]
  },
  {
   "cell_type": "markdown",
   "id": "ea7c1b51-2c70-47b7-a6c8-8769631df67c",
   "metadata": {},
   "source": [
    "# **学习曲线类：LearningCurve**"
   ]
  },
  {
   "cell_type": "markdown",
   "id": "d4425eff-43ea-4a00-91ed-3721d5566671",
   "metadata": {},
   "source": [
    "## **简介**\n",
    "#### 学习曲线是机器学习中用来评估模型性能的重要工具。通过绘制训练分数和验证分数随训练轮次（epochs）的变化，可以直观地判断模型是否存在过拟合或欠拟合现象，从而对模型进行调整优化。LearningCurve 类提供了简单的方法来绘制学习曲线，帮助用户可视化模型的训练过程。"
   ]
  },
  {
   "cell_type": "markdown",
   "id": "ab8b88ca-4df1-44f6-a7d7-0de9f8202e1a",
   "metadata": {},
   "source": [
    "## **代码概述**\n",
    "### **导入必要的库**\n",
    "#### 首先，导入绘制学习曲线所需的库："
   ]
  },
  {
   "cell_type": "code",
   "execution_count": null,
   "id": "a3544054-f88f-4d9d-99d6-93dd078a9e0f",
   "metadata": {},
   "outputs": [],
   "source": [
    "import numpy as np\n",
    "import pickle\n",
    "import matplotlib.pyplot as plt"
   ]
  },
  {
   "cell_type": "markdown",
   "id": "df679366-9f64-4360-8765-928758bc03a6",
   "metadata": {},
   "source": [
    "### **定义 LearningCurve 类**"
   ]
  },
  {
   "cell_type": "code",
   "execution_count": null,
   "id": "0b142b48-4875-45bb-a5ba-eec8532d72d1",
   "metadata": {},
   "outputs": [],
   "source": [
    "class LearningCurve:\n",
    "    @staticmethod\n",
    "    def plot(train_scores, val_scores):\n",
    "        plt.plot(train_scores, label='Training Score')\n",
    "        plt.plot(val_scores, label='Validation Score')\n",
    "        plt.xlabel('Epochs')\n",
    "        plt.ylabel('Score')\n",
    "        plt.title('Learning Curve')\n",
    "        plt.legend()\n",
    "        plt.show()\n"
   ]
  },
  {
   "cell_type": "markdown",
   "id": "c134d0d8-4f08-4b45-9fbc-fe6e2c1dbf48",
   "metadata": {},
   "source": [
    "#### LearningCurve 类包含一个静态方法 plot，用于绘制训练分数和验证分数的学习曲线。"
   ]
  },
  {
   "cell_type": "markdown",
   "id": "6c64727e-1b4b-42e3-9fdd-647a93d3f7d0",
   "metadata": {},
   "source": [
    "### **方法：plot**"
   ]
  },
  {
   "cell_type": "markdown",
   "id": "ea73fbc0-5716-45dc-a93e-15f240f24faa",
   "metadata": {},
   "source": [
    "#### **方法介绍**\n",
    "#### plot 方法接收训练分数和验证分数，绘制随训练轮次变化的折线图。它为模型的训练和验证表现提供了清晰的可视化，并帮助识别模型是否有过拟合或欠拟合问题。"
   ]
  },
  {
   "cell_type": "markdown",
   "id": "27e847c2-e5db-4e32-af8a-49e1b5c372ff",
   "metadata": {},
   "source": [
    "#### **方法实现**"
   ]
  },
  {
   "cell_type": "code",
   "execution_count": null,
   "id": "27ef2804-8b9f-4736-938b-3d25175a03c0",
   "metadata": {},
   "outputs": [],
   "source": [
    "@staticmethod\n",
    "def plot(train_scores, val_scores):\n",
    "    plt.plot(train_scores, label='Training Score')\n",
    "    plt.plot(val_scores, label='Validation Score')\n",
    "    plt.xlabel('Epochs')\n",
    "    plt.ylabel('Score')\n",
    "    plt.title('Learning Curve')\n",
    "    plt.legend()\n",
    "    plt.show()\n"
   ]
  },
  {
   "cell_type": "markdown",
   "id": "914e5d28-fd96-40b8-b20b-5950da6004db",
   "metadata": {},
   "source": [
    "#### **输入**：\n",
    "* train_scores：包含每个训练轮次后模型表现的分数（如准确率或损失）。\n",
    "* val_scores：包含每个训练轮次后验证集上的模型表现分数。\n",
    "#### **输出**：\n",
    "* 绘制并显示学习曲线图。"
   ]
  },
  {
   "cell_type": "markdown",
   "id": "bd5421fd-ecb5-415b-aafa-110303bbabba",
   "metadata": {},
   "source": [
    "#### **示例**"
   ]
  },
  {
   "cell_type": "code",
   "execution_count": 22,
   "id": "fe00bf35-58c4-484c-ae58-e2c7930d097d",
   "metadata": {},
   "outputs": [
    {
     "data": {
      "image/png": "[encoded data removed]",
      "text/plain": [
       "<Figure size 640x480 with 1 Axes>"
      ]
     },
     "metadata": {},
     "output_type": "display_data"
    }
   ],
   "source": [
    "from Tool.LearningCurve import LearningCurve\n",
    "# 导入 LearningCurve 类\n",
    "train_scores = [0.8, 0.85, 0.9, 0.92, 0.95]  # 模拟训练分数\n",
    "val_scores = [0.75, 0.8, 0.82, 0.83, 0.84]   # 模拟验证分数\n",
    "# 使用 LearningCurve 类的 plot 方法绘制学习曲线\n",
    "LearningCurve.plot(train_scores, val_scores)"
   ]
  },
  {
   "cell_type": "markdown",
   "id": "ee7e8f64-89a6-4957-91ca-661c04b5c56e",
   "metadata": {},
   "source": [
    "#### **说明**\n",
    "* train_scores 和 val_scores 是两个示例分数列表，用于演示模型训练和验证分数的变化趋势。\n",
    "* 调用 LearningCurve.plot() 方法可以直接生成并显示学习曲线。"
   ]
  },
  {
   "cell_type": "markdown",
   "id": "7e1e5ad5-3a36-4157-9fa5-fccf5c6737dd",
   "metadata": {},
   "source": [
    "## **使用场景**\n",
    "#### 学习曲线对于模型调试和优化至关重要。通过分析曲线，可以识别以下问题：\n",
    "* **过拟合**：当训练分数显著高于验证分数时，模型可能过拟合，需要减少模型复杂性或增加正则化。\n",
    "* **欠拟合**：当训练分数和验证分数都较低时，模型可能欠拟合，需要增加模型复杂性或训练更多轮次。"
   ]
  },
  {
   "cell_type": "markdown",
   "id": "f8fa3510-c5ac-421e-8368-776deddaeedd",
   "metadata": {},
   "source": [
    "## **总结**\n",
    "LearningCurve 类提供了一个简单的方法来可视化模型的训练过程，有助于模型的调试和优化。"
   ]
  },
  {
   "cell_type": "markdown",
   "id": "63c21c3f-0b30-43e7-a0f8-1574a32ce74d",
   "metadata": {},
   "source": [
    "***"
   ]
  }
 ],
 "metadata": {
  "kernelspec": {
   "display_name": "Python 3 (ipykernel)",
   "language": "python",
   "name": "python3"
  },
  "language_info": {
   "codemirror_mode": {
    "name": "ipython",
    "version": 3
   },
   "file_extension": ".py",
   "mimetype": "text/x-python",
   "name": "python",
   "nbconvert_exporter": "python",
   "pygments_lexer": "ipython3",
   "version": "3.12.6"
  }
 },
 "nbformat": 4,
 "nbformat_minor": 5
}
